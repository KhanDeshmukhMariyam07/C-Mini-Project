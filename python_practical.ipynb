{
  "nbformat": 4,
  "nbformat_minor": 0,
  "metadata": {
    "colab": {
      "provenance": [],
      "include_colab_link": true
    },
    "kernelspec": {
      "name": "python3",
      "display_name": "Python 3"
    },
    "language_info": {
      "name": "python"
    }
  },
  "cells": [
    {
      "cell_type": "markdown",
      "metadata": {
        "id": "view-in-github",
        "colab_type": "text"
      },
      "source": [
        "<a href=\"https://colab.research.google.com/github/KhanDeshmukhMariyam07/C-Mini-Project/blob/main/python_practical.ipynb\" target=\"_parent\"><img src=\"https://colab.research.google.com/assets/colab-badge.svg\" alt=\"Open In Colab\"/></a>"
      ]
    },
    {
      "cell_type": "markdown",
      "source": [
        "### **Practical No: 1**"
      ],
      "metadata": {
        "id": "pnaXc7Kn9-bB"
      }
    },
    {
      "cell_type": "markdown",
      "source": [
        "a.Create a programm that ask the user to enter their name and their age.Print out a message addressed to them that tells the year that they will turn 100 years old."
      ],
      "metadata": {
        "id": "4dqB82GYCigx"
      }
    },
    {
      "cell_type": "code",
      "source": [
        "import datetime\n",
        "\n",
        "name = input(\"Enter your name: \")\n",
        "age = int(input(\"Enter your age: \"))\n",
        "\n",
        "current_year = datetime.datetime.now().year\n",
        "\n",
        "years_to_100 = 100 - age\n",
        "years_for_100 = years_to_100 + current_year\n",
        "\n",
        "print(f\"Welcome {name}! You will be 100 years old in {years_for_100}\")"
      ],
      "metadata": {
        "id": "UvbvqRTj-AiP",
        "colab": {
          "base_uri": "https://localhost:8080/"
        },
        "outputId": "ae7a2dc1-a4cd-4e82-e1d4-0cd468fb8e6c"
      },
      "execution_count": null,
      "outputs": [
        {
          "output_type": "stream",
          "name": "stdout",
          "text": [
            "Enter your name: Mariyam\n",
            "Enter your age: 19\n",
            "Welcome Mariyam! You will be 100 years old in 2105\n"
          ]
        }
      ]
    },
    {
      "cell_type": "markdown",
      "source": [
        "b. Enter the number from the user and depending on whether the number is even or odd, print out an appropriate message to the user."
      ],
      "metadata": {
        "id": "oux13kcb-Nla"
      }
    },
    {
      "cell_type": "code",
      "source": [
        "num = int(input(\"Enter a number: \"))\n",
        "if num%2 == 0:\n",
        "    print(\"Even\")\n",
        "else:\n",
        "    print(\"Odd\")"
      ],
      "metadata": {
        "id": "b6G9euf4-Wqg",
        "colab": {
          "base_uri": "https://localhost:8080/"
        },
        "outputId": "072385d6-1f08-4b6e-9618-f5bb74cb0253"
      },
      "execution_count": null,
      "outputs": [
        {
          "output_type": "stream",
          "name": "stdout",
          "text": [
            "Enter a number: 78\n",
            "Even\n"
          ]
        }
      ]
    },
    {
      "cell_type": "markdown",
      "source": [
        "c. Write a program to generate the Fibonacci series."
      ],
      "metadata": {
        "id": "rUBGG6Ys-YY4"
      }
    },
    {
      "cell_type": "code",
      "source": [
        "num = int(input(\"Enter a number: \"))\n",
        "a = 0\n",
        "b = 1\n",
        "count = 0\n",
        "\n",
        "if num >= 2:\n",
        "    print(a, b, end=\" \")\n",
        "else:\n",
        "    print(0)\n",
        "\n",
        "while count < num-2:\n",
        "    c = a + b\n",
        "    print(c, end=\" \")\n",
        "    a = b\n",
        "    b = c\n",
        "    count += 1\n"
      ],
      "metadata": {
        "id": "W9zxFp2I-tca",
        "colab": {
          "base_uri": "https://localhost:8080/"
        },
        "outputId": "bedc9286-6367-4ef2-ccca-e4af91637a65"
      },
      "execution_count": null,
      "outputs": [
        {
          "output_type": "stream",
          "name": "stdout",
          "text": [
            "Enter a number: 5\n",
            "0 1 1 2 3 "
          ]
        }
      ]
    },
    {
      "cell_type": "markdown",
      "source": [
        "d. Write a function that reverses the user defined value."
      ],
      "metadata": {
        "id": "W0wNZiqz_S_i"
      }
    },
    {
      "cell_type": "code",
      "source": [
        "def rev_num(num):\n",
        "    real_num = num\n",
        "    reverse = 0\n",
        "\n",
        "    while num>0:\n",
        "        digit = num%10\n",
        "        reverse = reverse * 10 + digit\n",
        "        num //= 10\n",
        "\n",
        "    print(\"Original Number: \", real_num)\n",
        "    print(\"Reverse Number: \", reverse)\n",
        "\n",
        "rev = int(input(\"Enter a num: \"))\n",
        "rev_num(rev)"
      ],
      "metadata": {
        "id": "sWU-6uvt_fSY",
        "colab": {
          "base_uri": "https://localhost:8080/"
        },
        "outputId": "b0e1a315-e5b2-4987-9567-9317b606ce38"
      },
      "execution_count": null,
      "outputs": [
        {
          "output_type": "stream",
          "name": "stdout",
          "text": [
            "Enter a num: 12345\n",
            "Original Number:  12345\n",
            "Reverse Number:  54321\n"
          ]
        }
      ]
    },
    {
      "cell_type": "markdown",
      "source": [
        "e. Write a function to check the input value is Armstrong and also write the function for Palindrome."
      ],
      "metadata": {
        "id": "J3nwlW8b_Zn7"
      }
    },
    {
      "cell_type": "code",
      "source": [
        "def is_armstrong(num):\n",
        "    num_str = str(num)\n",
        "    n = len(num_str)\n",
        "    sum = 0\n",
        "\n",
        "    for digit in num_str:\n",
        "        sum += int(digit)**n\n",
        "    if sum == num:\n",
        "        return True\n",
        "    else:\n",
        "        return False\n",
        "\n",
        "num = 153\n",
        "print(is_armstrong(num))"
      ],
      "metadata": {
        "id": "bo7wuMAw_etB",
        "colab": {
          "base_uri": "https://localhost:8080/"
        },
        "outputId": "6436b934-4c65-490b-c8a6-e7bd0423408d"
      },
      "execution_count": null,
      "outputs": [
        {
          "output_type": "stream",
          "name": "stdout",
          "text": [
            "True\n"
          ]
        }
      ]
    },
    {
      "cell_type": "markdown",
      "source": [
        "f. Write a recursive function to print the factorial for a given number."
      ],
      "metadata": {
        "id": "W_-EwZQHCIwl"
      }
    },
    {
      "cell_type": "code",
      "source": [
        "def factorial(n):\n",
        "    if n == 1 or n == 0:\n",
        "        return 1\n",
        "    else:\n",
        "        return n*factorial(n-1)\n",
        "\n",
        "num = int(input(\"Enter a number: \"))\n",
        "print(f\"Factorial of {num} is {factorial(num)}.\")"
      ],
      "metadata": {
        "id": "SaCHYiWwCTBn",
        "colab": {
          "base_uri": "https://localhost:8080/"
        },
        "outputId": "ba6f4063-835d-4f8c-a5eb-2dac87a5a43f"
      },
      "execution_count": null,
      "outputs": [
        {
          "output_type": "stream",
          "name": "stdout",
          "text": [
            "Enter a number: 5\n",
            "Factorial of 5 is 120.\n"
          ]
        }
      ]
    },
    {
      "cell_type": "markdown",
      "source": [
        "### **Practical No: 2**"
      ],
      "metadata": {
        "id": "JcYrhpu214Ra"
      }
    },
    {
      "cell_type": "markdown",
      "source": [
        "a. Write a function that takes a character (i.e. a string of length 1) and returns True\n",
        "if it is a vowel, False otherwise."
      ],
      "metadata": {
        "id": "TR6RDMWW0ImU"
      }
    },
    {
      "cell_type": "code",
      "execution_count": null,
      "metadata": {
        "id": "bJHCST6Zz_Z3"
      },
      "outputs": [],
      "source": [
        "def check(char):\n",
        "    vowels = [\"a\", \"e\", \"i\", \"o\", \"u\"]\n",
        "\n",
        "    for letter in vowels:\n",
        "        if letter == char:\n",
        "            print(True)\n",
        "            break\n",
        "    else:\n",
        "        print(False)\n",
        "\n",
        "\n",
        "c = input(\"Enter a character: \")\n",
        "char = c.lower()\n",
        "check(char)"
      ]
    },
    {
      "cell_type": "markdown",
      "source": [
        "b.  Define a function that computes the length of a given list or string.  "
      ],
      "metadata": {
        "id": "04XLm0m60TXx"
      }
    },
    {
      "cell_type": "code",
      "source": [
        "def length(data):\n",
        "    count = 0\n",
        "    for i in data:\n",
        "        count += 1\n",
        "    return count\n",
        "\n",
        "string = input(\"Enter a String : \")\n",
        "print(f\"Lenght of string is {length(string)}\")\n",
        "\n",
        "List = input(\"Enter comma seperated List elements : \")\n",
        "List = List.split(\",\")\n",
        "print(f\"Lenght of list is {length(List)}\")\n"
      ],
      "metadata": {
        "id": "-dU5ODi30lEi"
      },
      "execution_count": null,
      "outputs": []
    },
    {
      "cell_type": "markdown",
      "source": [
        "c. Define a procedure histogram() that takes a list of integers and prints a histogram to the screen. For example, histogram([4, 9, 7]) should print the following:\n",
        "****\n",
        "*********\n",
        "*******"
      ],
      "metadata": {
        "id": "fEjH97Wq06Fz"
      }
    },
    {
      "cell_type": "code",
      "source": [
        "def histogram(List):\n",
        "    for i in List:\n",
        "        for j in range(i):\n",
        "            print(\"*\", end = \" \")\n",
        "        print()\n",
        "List = [4,9,7]\n",
        "histogram(List)"
      ],
      "metadata": {
        "id": "cL8RlCYv1RDo"
      },
      "execution_count": null,
      "outputs": []
    },
    {
      "cell_type": "markdown",
      "source": [
        "### **Practical No: 3**"
      ],
      "metadata": {
        "id": "sL2ZGfc61ohK"
      }
    },
    {
      "cell_type": "markdown",
      "source": [
        "a. A pangram is a sentence that contains all the letters of the English alphabet at least once, for example: The quick brown fox jumps over the lazy dog. Your task here is to write a function to check a sentence to see if it is a pangram or not."
      ],
      "metadata": {
        "id": "WAhRitis1VbA"
      }
    },
    {
      "cell_type": "code",
      "source": [
        "def is_pangram(sentence):\n",
        "    alphabet = \"abcdefghijklmnopqrstuvwxyz\"\n",
        "    for char in alphabet:\n",
        "        if char not in sentence.lower():\n",
        "            return False\n",
        "    return True\n",
        "\n",
        "sentence = \"The quick brown fox jumps over the lazy dog\"\n",
        "# sentence = input(\"Enter Sentence: \")\n",
        "\n",
        "if is_pangram(sentence):\n",
        "    print(\"Sentence is Pangram\")\n",
        "else:\n",
        "    print(\"Sentence is Not Pangram\")"
      ],
      "metadata": {
        "id": "N_ci68es1dNc"
      },
      "execution_count": null,
      "outputs": []
    },
    {
      "cell_type": "markdown",
      "source": [
        "b. Take a list, say for example this one:\n",
        "a = [1, 1, 2, 3, 5, 8, 13, 21, 34, 55, 89]\n",
        "and write a program that prints out all the elements of the list that are less than 5.\n"
      ],
      "metadata": {
        "id": "p9GNwNGC2yMU"
      }
    },
    {
      "cell_type": "code",
      "source": [
        "def function(data):\n",
        "    for i in data:\n",
        "        if i < 5:\n",
        "            print(i)\n",
        "\n",
        "List = [1, 1, 2, 3, 5, 8, 13, 21, 34, 55, 89]\n",
        "function(List)"
      ],
      "metadata": {
        "id": "Tm4jDIWN3kqH"
      },
      "execution_count": null,
      "outputs": []
    },
    {
      "cell_type": "markdown",
      "source": [
        "### **Practical No: 4**"
      ],
      "metadata": {
        "id": "snKW_jAF3tnA"
      }
    },
    {
      "cell_type": "markdown",
      "source": [
        "a. Write a program that takes two lists and returns True if they have at least one common member."
      ],
      "metadata": {
        "id": "Ly-6slB833yo"
      }
    },
    {
      "cell_type": "code",
      "source": [
        "def check(List1, List2):\n",
        "    for i in List1:\n",
        "        for j in List2:\n",
        "            if i == j:\n",
        "                return True\n",
        "    return False\n",
        "\n",
        "List1 = [1,2,3]\n",
        "List2 = [3,4,5]\n",
        "print(check(List1, List2))"
      ],
      "metadata": {
        "id": "H9XtvkEz32jx"
      },
      "execution_count": null,
      "outputs": []
    },
    {
      "cell_type": "markdown",
      "source": [
        "b. Write a Python program to print a specified list after removing the 0th, 2nd, 4th and 5th elements."
      ],
      "metadata": {
        "id": "mSl1v_CP4AwQ"
      }
    },
    {
      "cell_type": "code",
      "source": [
        "def function (positions, List):\n",
        "    count = 0\n",
        "    for i in positions:\n",
        "        List.pop(i - count)\n",
        "        count += 1\n",
        "    return List\n",
        "\n",
        "List = [\"Olympic\", \"UFC\", \"Kung Fu\", \"Football\",313,92,\"Anjuman\", \"Gaza\", \"Palestine\"]\n",
        "position = []\n",
        "number_of_elements = int(input(\"Enter number of elements you want to remove: \"))\n",
        "# print(\"Enter each element positions: \")\n",
        "for i in range(number_of_elements):\n",
        "    element = int(input(f\"Enter element{i+1} position: \"))\n",
        "    position.append(element)\n",
        "print(function (position, List))"
      ],
      "metadata": {
        "id": "4j3-S5wd4GQY"
      },
      "execution_count": null,
      "outputs": []
    },
    {
      "cell_type": "markdown",
      "source": [
        "c. Write a Python program to clone or copy a list."
      ],
      "metadata": {
        "id": "jmkQi_584Kto"
      }
    },
    {
      "cell_type": "code",
      "source": [
        "def copy(List1):\n",
        "    List2 = []\n",
        "    for i in List1:\n",
        "        List2.append(i)\n",
        "    return List2\n",
        "\n",
        "List1 = [1,2,3,4]\n",
        "List2 = copy(List1)\n",
        "print(\"First List = \",List1)\n",
        "print(\"Copy List = \",List2)"
      ],
      "metadata": {
        "id": "9BH2j5Mg4Zwp"
      },
      "execution_count": null,
      "outputs": []
    },
    {
      "cell_type": "markdown",
      "source": [
        "### **Practical No: 5**"
      ],
      "metadata": {
        "id": "yNDFG5ly4ck_"
      }
    },
    {
      "cell_type": "markdown",
      "source": [
        "a. Write a Python script to sort (ascending and descending) a dictionary by value."
      ],
      "metadata": {
        "id": "m2LqId_l4lWH"
      }
    },
    {
      "cell_type": "code",
      "source": [
        "dic = {1:10,2:40,3:20,4:60,5:30,6:50}\n",
        "\n",
        "def get_values(item):\n",
        "    return item[1]\n",
        "\n",
        "def dict_ascending(dic):\n",
        "    return dict(sorted(dic.items(), key = get_values))\n",
        "\n",
        "def dict_descending(dic):\n",
        "    return dict(sorted(dic.items(), key = get_values, reverse = True))\n",
        "\n",
        "print(\"Orignal Dictionary : \", dic)\n",
        "print(\"Ascending Dictionary : \", dict_ascending(dic))\n",
        "print(\"Descending Dictionary : \", dict_descending(dic))"
      ],
      "metadata": {
        "id": "j5EpUX905Dcx"
      },
      "execution_count": null,
      "outputs": []
    },
    {
      "cell_type": "markdown",
      "source": [
        "b. Write a Python script to concatenate following dictionaries to create a new one.\n",
        "Sample Dictionary :  \n",
        "dic1={1:10, 2:20}  \n",
        "dic2={3:30, 4:40}  \n",
        "dic3={5:50,6:60}\n",
        "Expected Result : {1: 10, 2: 20, 3: 30, 4: 40, 5: 50, 6: 60}"
      ],
      "metadata": {
        "id": "ppZyBC5P5FgS"
      }
    },
    {
      "cell_type": "code",
      "source": [
        "dict1 = {1:10, 2:20}\n",
        "dict2 = {3:30, 4:40}\n",
        "dict3 = {5:50, 6:60}\n",
        "result_dict = {}\n",
        "\n",
        "for i in dict1,dict2,dict3:\n",
        "    result_dict.update(i)\n",
        "\n",
        "print(result_dict)"
      ],
      "metadata": {
        "id": "bF-Rj_HG5IRA"
      },
      "execution_count": null,
      "outputs": []
    },
    {
      "cell_type": "markdown",
      "source": [
        "c. Write a Python program to sum all the items in a dictionary.\n"
      ],
      "metadata": {
        "id": "3dCO388L5OqJ"
      }
    },
    {
      "cell_type": "code",
      "source": [
        "dict1 = {'a':100, 'b':200, 'c':300}\n",
        "sum = 0\n",
        "for i in dict1.values():\n",
        "    sum += i\n",
        "print(\"Sum =\", sum)"
      ],
      "metadata": {
        "id": "heSTPjzt55l6"
      },
      "execution_count": null,
      "outputs": []
    },
    {
      "cell_type": "markdown",
      "source": [
        "### **Practical No: 6**"
      ],
      "metadata": {
        "id": "FxJsuiNM5_IQ"
      }
    },
    {
      "cell_type": "markdown",
      "source": [
        "a. Write a python program to read and write text file.\n"
      ],
      "metadata": {
        "id": "P-_I5fil6EGx"
      }
    },
    {
      "cell_type": "code",
      "source": [
        "def Write(file,text):\n",
        "    f = open(file, 'w')\n",
        "    f.write(text)\n",
        "\n",
        "def Read(file):\n",
        "    f = open(file, 'r')\n",
        "    print(f.read())\n",
        "\n",
        "file1 = input(\"Enter file name for writing : \")\n",
        "text = input(\"Enter a line to write in file : \")\n",
        "Write(file1,text)\n",
        "file2 = input(\"Enter file name for reading : \")\n",
        "Read(file2)"
      ],
      "metadata": {
        "id": "rHYaYU2V6IMJ"
      },
      "execution_count": null,
      "outputs": []
    },
    {
      "cell_type": "markdown",
      "source": [
        "b. Write a pyhton program to append text to a file and display the text."
      ],
      "metadata": {
        "id": "ZOIKJkee6cXK"
      }
    },
    {
      "cell_type": "code",
      "source": [
        "def append_fun(file,text):\n",
        "    f = open(file, 'a')\n",
        "    f.write(text)\n",
        "    with open(file, 'r') as f:\n",
        "        print(f.read())\n",
        "\n",
        "file_name = input(\"Enter file name to open : \")\n",
        "text = input(\"Enter text to append in the file : \")\n",
        "append_fun(file_name,text)"
      ],
      "metadata": {
        "id": "iY7Z4otT6i1I"
      },
      "execution_count": null,
      "outputs": []
    },
    {
      "cell_type": "markdown",
      "source": [
        "c. Write a python program to read last n lines of a file."
      ],
      "metadata": {
        "id": "giG7CMDD6lRq"
      }
    },
    {
      "cell_type": "code",
      "source": [
        "def read_lines(lines,file):\n",
        "     with open(file) as f:\n",
        "        count = -lines\n",
        "        List = []\n",
        "        List = f.readlines()\n",
        "        for i in range(lines):\n",
        "            print(List[count], end='')\n",
        "            count += 1\n",
        "        # print()\n",
        "\n",
        "file_name = input(\"Enter file name for reading lines : \")\n",
        "lines = int(input(\"Enter Number of lines : \"))\n",
        "# print()\n",
        "read_lines(lines,file_name)"
      ],
      "metadata": {
        "id": "MO0Z-NEq6o3Q"
      },
      "execution_count": null,
      "outputs": []
    },
    {
      "cell_type": "markdown",
      "source": [
        "## **Practical** **7**"
      ],
      "metadata": {
        "id": "ce_VK9y5B281"
      }
    },
    {
      "cell_type": "markdown",
      "source": [
        "a.Design a class that store the information of student and display the same."
      ],
      "metadata": {
        "id": "MGlgcvTYCF20"
      }
    },
    {
      "cell_type": "code",
      "source": [
        "class student:\n",
        "  count=0\n",
        "  def __init__(self,Name,Branch,Year):\n",
        "    self.Name=Name\n",
        "    self.Branch=Branch\n",
        "    self.Year=Year\n",
        "    student.count+=1\n",
        "\n",
        "  def display(self):\n",
        "    print(f\"Name: {self.Name}, RollNo: {student.count}, Branch: {self.Branch}, Year: {self.Year}\")\n",
        "\n",
        "\n",
        "st=student('Mariyam','Bsc IT','S.Y')\n",
        "st.display()"
      ],
      "metadata": {
        "colab": {
          "base_uri": "https://localhost:8080/"
        },
        "id": "mDlOOL65CUZZ",
        "outputId": "8c33030e-f43d-4f48-e6ca-e5ead6a0d4f0"
      },
      "execution_count": null,
      "outputs": [
        {
          "output_type": "stream",
          "name": "stdout",
          "text": [
            "Name: Mariyam, RollNo: 1, Branch: Bsc IT, Year: S.Y\n"
          ]
        }
      ]
    },
    {
      "cell_type": "markdown",
      "source": [
        "b.Implement the concept of inheritance using python."
      ],
      "metadata": {
        "id": "13j67-IGH5DS"
      }
    },
    {
      "cell_type": "code",
      "source": [
        "class Animal:\n",
        "    \"\"\"Base class representing animals.\"\"\"\n",
        "\n",
        "    def __init__(self, name, sound):\n",
        "        \"\"\"\n",
        "        Initializes an animal object.\n",
        "\n",
        "        Args:\n",
        "            name: The name of the animal.\n",
        "            sound: The sound the animal makes.\n",
        "        \"\"\"\n",
        "        self.name = name\n",
        "        self.sound = sound\n",
        "\n",
        "    def make_sound(self):\n",
        "        \"\"\"Prints the animal's sound.\"\"\"\n",
        "        print(f\"{self.name} says: {self.sound}\")\n",
        "\n",
        "\n",
        "class Dog(Animal):\n",
        "    \"\"\"Derived class representing dogs.\"\"\"\n",
        "\n",
        "    def __init__(self, name, breed, sound=\"Woof\"):\n",
        "        \"\"\"\n",
        "        Initializes a dog object.\n",
        "\n",
        "        Args:\n",
        "            name: The name of the dog.\n",
        "            breed: The breed of the dog.\n",
        "            sound: The sound the dog makes (defaults to \"Woof\").\n",
        "        \"\"\"\n",
        "        super().__init__(name, sound)\n",
        "        self.breed = breed\n",
        "\n",
        "    def fetch(self):\n",
        "        \"\"\"Simulates a dog fetching something.\"\"\"\n",
        "        print(f\"{self.name} is fetching!\")\n",
        "\n",
        "\n",
        "class Cat(Animal):\n",
        "    \"\"\"Derived class representing cats.\"\"\"\n",
        "\n",
        "    def __init__(self, name, color, sound=\"Meow\"):\n",
        "        \"\"\"\n",
        "        Initializes a cat object.\n",
        "\n",
        "        Args:\n",
        "            name: The name of the cat.\n",
        "            color: The color of the cat.\n",
        "            sound: The sound the cat makes (defaults to \"Meow\").\n",
        "        \"\"\"\n",
        "        super().__init__(name, sound)\n",
        "        self.color = color\n",
        "\n",
        "    def slurp(self):\n",
        "        \"\"\"Simulates a cat slurping.\"\"\"\n",
        "        print(f\"{self.name} is slurping.\")\n",
        "\n",
        "\n",
        "# Create instances of the classes\n",
        "animal = Animal(\"Generic Animal\", \"Generic Sound\")\n",
        "dog = Dog(\"Buddy\", \"Golden Retriever\")\n",
        "cat = Cat(\"Whiskers\", \"Tabby\")\n",
        "\n",
        "# Demonstrate inheritance and method overriding\n",
        "animal.make_sound()\n",
        "dog.make_sound()\n",
        "dog.fetch()\n",
        "cat.make_sound()\n",
        "cat.slurp()\n"
      ],
      "metadata": {
        "colab": {
          "base_uri": "https://localhost:8080/"
        },
        "id": "vhh6MYS5JP44",
        "outputId": "adae4ce2-2cde-42df-ecf6-0417dee6dad1"
      },
      "execution_count": null,
      "outputs": [
        {
          "output_type": "stream",
          "name": "stdout",
          "text": [
            "Generic Animal says: Generic Sound\n",
            "Buddy says: Woof\n",
            "Buddy is fetching!\n",
            "Whiskers says: Meow\n",
            "Whiskers is slurping.\n"
          ]
        }
      ]
    },
    {
      "cell_type": "markdown",
      "source": [
        "c.Create a class called Numbers, which has a single class attribute called\n",
        "MULTIPLIER, and a constructor which takes the parameters x and y (these should\n",
        "all be numbers).\n",
        "i. Write a method called add which returns the sum of the attributes x and y.\n",
        "ii. Write a class method called multiply, which takes a single number\n",
        "parameter a and returns the product of a and MULTIPLIER.\n",
        "iii. Write a static method called subtract, which takes two number parameters, b\n",
        "and c, and returns b - c.\n",
        "iv. Write a method called value which returns a tuple containing the values of x\n",
        "and y. Make this method into a property, and write a setter and a deleter for\n",
        "manipulating the values of x and y."
      ],
      "metadata": {
        "id": "TUYpawhMPNXE"
      }
    },
    {
      "cell_type": "code",
      "source": [
        "class Numbers:\n",
        "    MULTIPLIER = 5\n",
        "\n",
        "    def __init__(self, x, y):\n",
        "        \"\"\"Initializes the Numbers object with x and y.\"\"\"\n",
        "        self.x = x\n",
        "        self.y = y\n",
        "\n",
        "    def add(self):\n",
        "        \"\"\"Returns the sum of x and y.\"\"\"\n",
        "        return self.x + self.y\n",
        "\n",
        "    @classmethod\n",
        "    def multiply(cls, a):\n",
        "        \"\"\"Multiplies a number by the MULTIPLIER.\"\"\"\n",
        "        return a * cls.MULTIPLIER\n",
        "\n",
        "    @staticmethod\n",
        "    def subtract(b, c):\n",
        "        \"\"\"Returns the result of subtracting c from b.\"\"\"\n",
        "        return b - c\n",
        "\n",
        "    @property\n",
        "    def value(self):\n",
        "        \"\"\"Returns a tuple of x and y.\"\"\"\n",
        "        return self.x, self.y\n",
        "\n",
        "    @value.setter\n",
        "    def value(self, new_value):\n",
        "        \"\"\"Sets x and y using a tuple.\"\"\"\n",
        "        self.x, self.y = new_value\n",
        "\n",
        "    @value.deleter\n",
        "    def value(self):\n",
        "        \"\"\"Deletes x and y.\"\"\"\n",
        "        del self.x\n",
        "        del self.y\n",
        "\n",
        "\n",
        "# Create an instance of the Numbers class\n",
        "num = Numbers(10, 20)\n",
        "print(num.add())\n",
        "print(Numbers.multiply(3))\n",
        "print(Numbers.subtract(5, 2))\n",
        "print(num.value)\n",
        "\n",
        "num.value = (30, 40)\n",
        "print(num.value)\n"
      ],
      "metadata": {
        "colab": {
          "base_uri": "https://localhost:8080/"
        },
        "id": "5KFgZ_WIPksR",
        "outputId": "361c9d8f-4264-47dc-f28d-4bd961b1729c"
      },
      "execution_count": null,
      "outputs": [
        {
          "output_type": "stream",
          "name": "stdout",
          "text": [
            "30\n",
            "15\n",
            "3\n",
            "(10, 20)\n",
            "(30, 40)\n"
          ]
        }
      ]
    }
  ]
}